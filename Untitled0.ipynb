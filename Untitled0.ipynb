{
  "nbformat": 4,
  "nbformat_minor": 0,
  "metadata": {
    "colab": {
      "provenance": []
    },
    "kernelspec": {
      "name": "python3",
      "display_name": "Python 3"
    },
    "language_info": {
      "name": "python"
    }
  },
  "cells": [
    {
      "cell_type": "code",
      "execution_count": null,
      "metadata": {
        "colab": {
          "base_uri": "https://localhost:8080/"
        },
        "id": "ej2u_dgDoZI2",
        "outputId": "c10c0c1a-ea5d-49d9-b3b4-58aaa7ab27ff"
      },
      "outputs": [
        {
          "output_type": "stream",
          "name": "stdout",
          "text": [
            "enter a number3\n",
            "positive\n"
          ]
        }
      ],
      "source": [
        "num=float(input(\"enter a number\"))\n",
        "if num>0 :\n",
        "  print (\"positive\")\n",
        "else :\n",
        "  print(\"negative\")\n",
        "\n"
      ]
    },
    {
      "cell_type": "code",
      "source": [
        "x= int(input(\"enter a number : \"))\n",
        "operation = input (\"enter an operation (+,-,*,/)\")\n",
        "y = int(input(\"enter a number :\"))\n",
        "\n",
        "if operation==\"+\" :\n",
        "  print (x+y)\n",
        "elif operation==\"-\":\n",
        "  print(x-y)\n",
        "elif operation==\"*\":\n",
        "  print(x*y)\n",
        "elif operation==\"/\" and y!=0:\n",
        "  print(x/y)\n",
        "else:\n",
        "  print(\" I do not support this operation !\")"
      ],
      "metadata": {
        "colab": {
          "base_uri": "https://localhost:8080/"
        },
        "id": "LGE6pefOpcZR",
        "outputId": "110f910c-de9e-40f5-9ddd-3a6f59dc1322"
      },
      "execution_count": null,
      "outputs": [
        {
          "output_type": "stream",
          "name": "stdout",
          "text": [
            "enter a number : 9\n",
            "enter an operation (+,-,*,/)+\n",
            "enter a number :5\n",
            "14\n"
          ]
        }
      ]
    },
    {
      "cell_type": "markdown",
      "source": [
        "ask the user to enter a number.\n",
        "if the number is between 0 and 1 print the percentage of the number. IN any case print, please enter a number between 0 and 1"
      ],
      "metadata": {
        "id": "uMUmk4J4r-RQ"
      }
    },
    {
      "cell_type": "code",
      "source": [
        "num=float(input(\"enter a number: \"))\n",
        "\n",
        "if num>=0 and num<=1:\n",
        "  print(\"persentage is\",num*100,\"%\")\n",
        "else:\n",
        "  print(\"I cannot do it\")"
      ],
      "metadata": {
        "colab": {
          "base_uri": "https://localhost:8080/",
          "height": 258
        },
        "id": "jqoBKYxsscC-",
        "outputId": "173b9b59-3275-418a-b2ef-e3ada05e3f4e"
      },
      "execution_count": null,
      "outputs": [
        {
          "name": "stdout",
          "output_type": "stream",
          "text": [
            "enter a number: 0,2\n"
          ]
        },
        {
          "output_type": "error",
          "ename": "ValueError",
          "evalue": "could not convert string to float: '0,2'",
          "traceback": [
            "\u001b[0;31m---------------------------------------------------------------------------\u001b[0m",
            "\u001b[0;31mValueError\u001b[0m                                Traceback (most recent call last)",
            "\u001b[0;32m<ipython-input-13-266051e273d7>\u001b[0m in \u001b[0;36m<cell line: 1>\u001b[0;34m()\u001b[0m\n\u001b[0;32m----> 1\u001b[0;31m \u001b[0mnum\u001b[0m\u001b[0;34m=\u001b[0m\u001b[0mfloat\u001b[0m\u001b[0;34m(\u001b[0m\u001b[0minput\u001b[0m\u001b[0;34m(\u001b[0m\u001b[0;34m\"enter a number: \"\u001b[0m\u001b[0;34m)\u001b[0m\u001b[0;34m)\u001b[0m\u001b[0;34m\u001b[0m\u001b[0;34m\u001b[0m\u001b[0m\n\u001b[0m\u001b[1;32m      2\u001b[0m \u001b[0;34m\u001b[0m\u001b[0m\n\u001b[1;32m      3\u001b[0m \u001b[0;32mif\u001b[0m \u001b[0mnum\u001b[0m\u001b[0;34m>=\u001b[0m\u001b[0;36m0\u001b[0m \u001b[0;32mand\u001b[0m \u001b[0mnum\u001b[0m\u001b[0;34m<=\u001b[0m\u001b[0;36m1\u001b[0m\u001b[0;34m:\u001b[0m\u001b[0;34m\u001b[0m\u001b[0;34m\u001b[0m\u001b[0m\n\u001b[1;32m      4\u001b[0m   \u001b[0mprint\u001b[0m\u001b[0;34m(\u001b[0m\u001b[0;34m\"persentage is\"\u001b[0m\u001b[0;34m,\u001b[0m\u001b[0mnum\u001b[0m\u001b[0;34m*\u001b[0m\u001b[0;36m100\u001b[0m\u001b[0;34m,\u001b[0m\u001b[0;34m\"%\"\u001b[0m\u001b[0;34m)\u001b[0m\u001b[0;34m\u001b[0m\u001b[0;34m\u001b[0m\u001b[0m\n\u001b[1;32m      5\u001b[0m \u001b[0;32melse\u001b[0m\u001b[0;34m:\u001b[0m\u001b[0;34m\u001b[0m\u001b[0;34m\u001b[0m\u001b[0m\n",
            "\u001b[0;31mValueError\u001b[0m: could not convert string to float: '0,2'"
          ]
        }
      ]
    },
    {
      "cell_type": "code",
      "source": [
        "text = \"my name is stelios and I live in london\"\n",
        "print(text[2])\n"
      ],
      "metadata": {
        "colab": {
          "base_uri": "https://localhost:8080/"
        },
        "id": "aMQ0Pfu9uUNM",
        "outputId": "476bf39e-1d1f-4301-ba66-fc14348639cf"
      },
      "execution_count": null,
      "outputs": [
        {
          "output_type": "stream",
          "name": "stdout",
          "text": [
            " \n"
          ]
        }
      ]
    },
    {
      "cell_type": "code",
      "source": [
        "city =\"london\"\n",
        "print(city[0:3])\n"
      ],
      "metadata": {
        "colab": {
          "base_uri": "https://localhost:8080/"
        },
        "id": "YpxFPPcavQoy",
        "outputId": "f317098a-a52b-4bd4-8f9d-eaac6a4f64e4"
      },
      "execution_count": null,
      "outputs": [
        {
          "output_type": "stream",
          "name": "stdout",
          "text": [
            "lon\n"
          ]
        }
      ]
    },
    {
      "cell_type": "code",
      "source": [
        "text = \"my name is stelios and I live in London\"\n",
        "print(text[-6:])"
      ],
      "metadata": {
        "colab": {
          "base_uri": "https://localhost:8080/"
        },
        "id": "bkCdfu4wvuiN",
        "outputId": "976b5357-9369-444e-a928-8a1d2c1d76c0"
      },
      "execution_count": null,
      "outputs": [
        {
          "output_type": "stream",
          "name": "stdout",
          "text": [
            "London\n"
          ]
        }
      ]
    },
    {
      "cell_type": "markdown",
      "source": [
        "ask the user to enter a city.\n",
        "if the user enters a city starting with L capital, print \"start with L capital\" else print something else"
      ],
      "metadata": {
        "id": "n9T6_twiw_HL"
      }
    },
    {
      "cell_type": "markdown",
      "source": [],
      "metadata": {
        "id": "VoPsYILFqMk9"
      }
    },
    {
      "cell_type": "code",
      "source": [
        "city= input(\"enter a city: \")\n",
        "if city[0]==\"L\":\n",
        "  print(\"starts with L\")\n",
        "else :\n",
        "  print(\"asdasdas\")"
      ],
      "metadata": {
        "colab": {
          "base_uri": "https://localhost:8080/"
        },
        "id": "BnCnAK7Vxaud",
        "outputId": "76451bad-7d21-4f37-e4b1-099ffc8ae460"
      },
      "execution_count": null,
      "outputs": [
        {
          "output_type": "stream",
          "name": "stdout",
          "text": [
            "enter a city: nante\n",
            "asdasdas\n"
          ]
        }
      ]
    },
    {
      "cell_type": "code",
      "source": [
        "phrase=input(\"enter a phrase: \")\n",
        "if phrase[-1]!=\".\":\n",
        "  print(\"you need a dot!\")\n",
        "else :\n",
        "  print(\"all good!\")"
      ],
      "metadata": {
        "colab": {
          "base_uri": "https://localhost:8080/"
        },
        "id": "czybyTO-ysPu",
        "outputId": "448cb0c3-40ae-4f5c-9906-dd5fe1fe1765"
      },
      "execution_count": null,
      "outputs": [
        {
          "output_type": "stream",
          "name": "stdout",
          "text": [
            "enter a phrase: salut la team\n",
            "you need a dot!\n"
          ]
        }
      ]
    }
  ]
}